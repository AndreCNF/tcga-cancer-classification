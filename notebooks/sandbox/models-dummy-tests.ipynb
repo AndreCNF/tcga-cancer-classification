{
 "cells": [
  {
   "cell_type": "markdown",
   "metadata": {},
   "source": [
    "# Models dummy tests\n",
    "\n",
    "Testing models from the project defined classes, including the embedding layers and time intervals handling, on dummy datasets."
   ]
  },
  {
   "cell_type": "markdown",
   "metadata": {},
   "source": [
    "## Importing the necessary packages"
   ]
  },
  {
   "cell_type": "code",
   "execution_count": 1,
   "metadata": {},
   "outputs": [],
   "source": [
    "import pandas as pd                        # Pandas to load the data initially\n",
    "import numpy as np                         # Mathematical operations package, allowing also for missing values representation\n",
    "import torch                               # PyTorch for tensor and deep learning operations\n",
    "import data_utils as du                    # Data science and machine learning relevant methods\n",
    "import os                                  # os handles directory/workspace changes"
   ]
  },
  {
   "cell_type": "code",
   "execution_count": 2,
   "metadata": {},
   "outputs": [
    {
     "data": {
      "text/plain": [
       "('MT19937', array([2147483648, 1256770234, 2023027596,  646966712, 3955640658,\n",
       "        3609286275, 3460428425, 2616305958,  298104640, 1379089345,\n",
       "        3238465535, 4066412055,   20438531,  374122254, 4105707792,\n",
       "        2173841797, 3097175487, 1303810596,  751552147, 3218156518,\n",
       "        2659904734, 2409227131,  251342323, 2962663233, 3595250703,\n",
       "        2355817816, 1429135382, 2709037071, 2896382551, 2317082265,\n",
       "        1749179562, 1655546810, 4180322766, 2564358155, 1776217414,\n",
       "        1268574891, 2063757078,  668487674,  161686507, 1562100172,\n",
       "        1020134090,  971565978, 2604208961,  203694675, 3073636743,\n",
       "        1552423754, 1603177638,  351777504, 1633410559, 1977544140,\n",
       "         628210345, 1884716641,   71995294,  566383264, 1448786642,\n",
       "         214027542, 1188785439, 3726604205, 3730932953, 1903233542,\n",
       "        1706845640, 2412613327, 2277970351, 3565195159,  358878464,\n",
       "        1383249184, 2026319583, 3053235915, 3495132103, 2846174471,\n",
       "        3435798274,   23885755, 2890752969, 1906311506,  645361551,\n",
       "        2630345904,  297814516, 2507292976, 4255230217, 4253121942,\n",
       "        1482524281, 1725620296, 2474598951, 3419411431, 3982403082,\n",
       "        1325670630, 2859946111, 1686307668,  726026242, 4146355990,\n",
       "        1026564360,  379209709, 1546081235, 2187408867,  397424728,\n",
       "        3391557424, 3818551934, 1766556313, 2184530349, 1104618720,\n",
       "        3722328266, 4122697369, 1822288341, 3590961886,    9365386,\n",
       "         849835989, 3121088880, 2120548370, 4076080448, 3816638911,\n",
       "        4164548113,  636080126,  606298503, 3165493183, 1769898918,\n",
       "        1788623019, 2894198869, 2929957057,  194232347, 3378272395,\n",
       "        2404322187,  612268236, 1611797930, 3330596339,  205141326,\n",
       "        2092647609,  925923928,  201020652, 3000128438, 3964491295,\n",
       "        3397599131, 2874635360, 1442648425, 3360674797, 1239869230,\n",
       "        4085769552, 3572350057, 2295851813,  255014859,    9947360,\n",
       "        1747265809, 1470717163, 1396026525, 2833165513, 3173116421,\n",
       "         403014039, 3545132822, 4286486345, 2489581616, 2113731358,\n",
       "         827073604, 2325782903, 2626789589, 3295354713, 1937155150,\n",
       "        3802986459,  425761172,  284507767, 1877774596, 1596590653,\n",
       "         906126566,   91346851, 1921561616, 1898775578,  358513482,\n",
       "        1032667055, 4210910901, 2430017536, 2410629035, 1933033285,\n",
       "        1349863949, 2532463749, 3783596337,  766741617, 1988660128,\n",
       "        1302247305, 2944373211, 2459746446, 1008291265,  453835067,\n",
       "        2163682595,  748200442, 2751386998,  214243602,  321093351,\n",
       "        3594843638, 3213812534, 2975673898,  922211459,   34109706,\n",
       "        2155173917,  466920643, 1007607402, 3012727488,  359961964,\n",
       "        2054800718,  715941688, 3169952339, 2714057741, 2804399600,\n",
       "        3532735253, 2096764424, 3130550624, 3499891947, 1946486321,\n",
       "        1279091327, 2262331504, 4279560963, 3559175168, 3396307709,\n",
       "        3778566752, 3802828445,   45557731, 3233630559, 1206649828,\n",
       "          36260350, 3843307600,  658769270, 3154099655, 3854958769,\n",
       "         159264906, 1611788691, 2120517516, 3897340251, 3876879600,\n",
       "        2875887288, 2885467748,   97533159, 4020857021,  891449344,\n",
       "        2622462727,  372086522,  400029395, 2191048170, 2550173048,\n",
       "        3255476349, 3353650768, 2277999365,  726733689,  494822249,\n",
       "        1547543449,  512555934, 4155259764, 3789490152,  310928476,\n",
       "        3896268894,  416339288, 3699489110, 2833280548,  923066806,\n",
       "        3959123011, 2261035443, 2670677083,  375350365,  223746622,\n",
       "         893908560, 3945263171, 2544002032,  235751701,  721054157,\n",
       "        3063228417,  513059638, 4281305063,  891838463, 2652335251,\n",
       "        1902324881, 2507353995, 1155111086, 3637523428, 3204307903,\n",
       "        2770474122, 3711583533, 3765516629, 1854946562, 1992945809,\n",
       "        1637195170, 3808697680, 2578659665, 3985552006, 1103384083,\n",
       "        1428755309, 4272008083, 2544334495, 2314854542, 3173375953,\n",
       "        3140203433, 1869832091, 3254708457, 3031935059, 3027679396,\n",
       "        2654842533,  281909754, 3127159408, 1297731963,  447200495,\n",
       "        4041503795, 3878448424, 2513851300,  250464917, 3588764575,\n",
       "        2173164339,  459727012, 2467445818, 1745872408, 2118776557,\n",
       "        3944146692, 2776743513, 2710169534, 3202955581,  840791423,\n",
       "        2957039816,  749012338, 3856269854, 2762488090,  195317020,\n",
       "        1273264275,  145818821, 2956584251, 3522646943, 3967745897,\n",
       "        4213776205, 4119965379, 3688831431, 4191791854,  203570102,\n",
       "        1456270958,  890583773, 3806186506,  429036054, 2495934518,\n",
       "        1004363301, 1348415528, 3959961660,  758883705,   93455674,\n",
       "        1550722169, 1724415212, 4184278005,   63016601, 2425213114,\n",
       "        1493049258,  540181456, 3665292415, 3022662653, 4279820380,\n",
       "         787460829, 1736011585, 2202094134, 2228133690, 2994067959,\n",
       "        4272088394,  888150503, 2468955853, 3018263605, 2493031168,\n",
       "        1605374599, 1958450607, 4001640870, 2864733064, 3111656879,\n",
       "         949853081,  766842055, 1467664386, 3966638617, 2771234457,\n",
       "        2338903466, 1136916971, 4142703867,  782217019,  266940667,\n",
       "         184720858, 1679289888, 1356443661, 2059186398,  919339332,\n",
       "        2330063670, 2822862981, 1245387401, 1193539227, 3207412826,\n",
       "        2587963189,  680944788, 1789940696, 1329682518, 3804037080,\n",
       "         896334654,  826056740, 1991074202,  545546256, 2444418576,\n",
       "        1876931863, 2455694473,  765040925, 1944527893, 3135495707,\n",
       "        2561648856, 2757159266,  863079475, 1541005425, 2281094113,\n",
       "        2892336961,  692733144, 3108294940, 2635222309, 2209850339,\n",
       "        2889750236,  219565086,  936301593, 3162911938, 1552585656,\n",
       "        3755289837, 2305180689, 2845975894,  208465646, 1217106531,\n",
       "        2666533863, 4184860555, 1157489199,  374838479, 4004103070,\n",
       "        1751749245, 2545590680,  449122957, 2459368001, 3898764390,\n",
       "         731507691, 1188757667, 1668585731, 3742739361, 3098996084,\n",
       "        2410034830, 3646274370,  314316824, 4111766278, 3990368256,\n",
       "        2473052496, 2463972105,   45310929, 3773117037,  903071748,\n",
       "        2702936287, 3839226727,  186340259, 1456460216,  663013872,\n",
       "         510800240, 4212019046, 2368219711, 3532442856, 4038444519,\n",
       "        1423276237, 1061951611, 1048176621,  696285986, 2626774361,\n",
       "        3014013297,  722364042, 2596717620, 1602130054,  312256235,\n",
       "        3718947742, 2755389049, 1055951960, 4116756855, 3438104777,\n",
       "        3991468410, 3817526482, 2729309850,  342730041, 2943554193,\n",
       "        1629864237,  594448569, 2545860346, 2411174277, 3370711760,\n",
       "         197859004, 3981727904, 3939348303,  673353162,  265985741,\n",
       "        1385923967, 2836222175, 1912533094, 2770342935, 3316074163,\n",
       "        2652014384,  180709773, 1259140059,  222437446, 3154020492,\n",
       "        2419892548, 3947274545,  947606991, 1779290831, 1492368603,\n",
       "        2378460115, 2905564811, 1724948418,  804276008, 2026104564,\n",
       "        3279536557, 1149018142, 1480880588,  982165341, 2383715536,\n",
       "        1644824760, 1920909766, 1903453699, 3570863011, 2619718183,\n",
       "          13484965, 3061521772,   42067429, 1235894776, 3586746065,\n",
       "        4129021228, 4058569596,  657706641, 3849585084, 3583084358,\n",
       "        2893021940, 2630864189, 2671602117, 3008505637, 2711996049,\n",
       "        1391782838,  753365327, 2422620273,  776309601, 3857564287,\n",
       "        1959478931, 2538808164, 1666816269, 2003411851, 1127516220,\n",
       "        2337832079, 3309815555,  238610186, 3667527586, 1364488227,\n",
       "        1358904843, 3262807800, 1010884776, 2498606586, 2653603534,\n",
       "         608814235,  629139943,  777187173, 2295796931, 1329626978,\n",
       "        2603239778, 2681398021, 1604196762,  608214578, 2408792043,\n",
       "        3478159655,  343786185, 1182656959,  939615017, 4225973748,\n",
       "        1405654892, 3084294084, 2977724068, 3467174047, 2865674522,\n",
       "        3724125851, 1778187636,  648791932, 1338670094,  993659528,\n",
       "        3152664913, 2829005800, 1208270960, 2918425841,  330968530,\n",
       "        1948651313,  949950715,  925390970,  370173960, 1112701285,\n",
       "         990185617,  824171965, 1551247294, 1359923161, 2152355790,\n",
       "        2263146006, 3447037069, 3121816164,  603308993, 1965156707,\n",
       "        2004331487, 1423750347, 3765306954, 3327396038,  576641798,\n",
       "        3829537909, 3388283553, 2457879906, 2636726049, 2078407734,\n",
       "        3213939924, 3534480025, 4280335128,  962299948, 2018766759,\n",
       "         865676315, 2983093798, 1379907368, 1603468918, 3691835358,\n",
       "         153279162, 3011327562,  412317063, 3527172382,  746127665,\n",
       "         583642654, 2065667099, 1805600493, 2826597122, 2897146585,\n",
       "         382701947, 1898669033, 2082728459, 1620912778], dtype=uint32), 623, 0, 0.0)"
      ]
     },
     "execution_count": 2,
     "metadata": {},
     "output_type": "execute_result"
    }
   ],
   "source": [
    "du.random_seed"
   ]
  },
  {
   "cell_type": "code",
   "execution_count": 3,
   "metadata": {},
   "outputs": [],
   "source": [
    "du.set_random_seed(42)"
   ]
  },
  {
   "cell_type": "code",
   "execution_count": 4,
   "metadata": {},
   "outputs": [
    {
     "data": {
      "text/plain": [
       "42"
      ]
     },
     "execution_count": 4,
     "metadata": {},
     "output_type": "execute_result"
    }
   ],
   "source": [
    "du.random_seed"
   ]
  },
  {
   "cell_type": "code",
   "execution_count": 5,
   "metadata": {},
   "outputs": [
    {
     "data": {
      "text/plain": [
       "True"
      ]
     },
     "execution_count": 5,
     "metadata": {},
     "output_type": "execute_result"
    }
   ],
   "source": [
    "du.use_modin"
   ]
  },
  {
   "cell_type": "code",
   "execution_count": 6,
   "metadata": {},
   "outputs": [],
   "source": [
    "du.set_pandas_library('pandas')"
   ]
  },
  {
   "cell_type": "code",
   "execution_count": 7,
   "metadata": {},
   "outputs": [
    {
     "data": {
      "text/plain": [
       "False"
      ]
     },
     "execution_count": 7,
     "metadata": {},
     "output_type": "execute_result"
    }
   ],
   "source": [
    "du.use_modin"
   ]
  },
  {
   "cell_type": "code",
   "execution_count": 8,
   "metadata": {},
   "outputs": [
    {
     "name": "stdout",
     "output_type": "stream",
     "text": [
      "Pixiedust database opened successfully\n"
     ]
    },
    {
     "data": {
      "text/html": [
       "\n",
       "        <div style=\"margin:10px\">\n",
       "            <a href=\"https://github.com/ibm-watson-data-lab/pixiedust\" target=\"_new\">\n",
       "                <img src=\"https://github.com/ibm-watson-data-lab/pixiedust/raw/master/docs/_static/pd_icon32.png\" style=\"float:left;margin-right:10px\"/>\n",
       "            </a>\n",
       "            <span>Pixiedust version 1.1.17</span>\n",
       "        </div>\n",
       "        "
      ],
      "text/plain": [
       "<IPython.core.display.HTML object>"
      ]
     },
     "metadata": {},
     "output_type": "display_data"
    }
   ],
   "source": [
    "import pixiedust                           # Debugging in Jupyter Notebook cells"
   ]
  },
  {
   "cell_type": "code",
   "execution_count": 9,
   "metadata": {},
   "outputs": [],
   "source": [
    "# Change to scripts directory\n",
    "os.chdir('../../scripts')"
   ]
  },
  {
   "cell_type": "code",
   "execution_count": 10,
   "metadata": {},
   "outputs": [],
   "source": [
    "from Tabular_Dataset import Tabular_Dataset # Dataset class that helps fetching batches of data\n",
    "import Models                              # Script with all the machine learning model classes"
   ]
  },
  {
   "cell_type": "code",
   "execution_count": 11,
   "metadata": {},
   "outputs": [],
   "source": [
    "# Change to parent directory (presumably \"eICU-mortality-prediction\")\n",
    "os.chdir('..')"
   ]
  },
  {
   "cell_type": "markdown",
   "metadata": {},
   "source": [
    "## Initializing variables"
   ]
  },
  {
   "cell_type": "markdown",
   "metadata": {},
   "source": [
    "Data that we'll be using:"
   ]
  },
  {
   "cell_type": "code",
   "execution_count": 12,
   "metadata": {
    "pixiedust": {
     "displayParams": {}
    }
   },
   "outputs": [],
   "source": [
    "dmy_data = np.array([[0, 23, 284, 70, 5, np.nan, 0],\n",
    "                     [91, 23, 284, 70, 5, 'b', 0],\n",
    "                     [92, 24, 270, 73, 5, 'b', 0],\n",
    "                     [93, 22, 290, 71, 5, 'a', 0],\n",
    "                     [93, 22, 290, 71, 5, 'b', 0],\n",
    "                     [94, 20, 288, 65, 4, 'a', 1],\n",
    "                     [94, 20, 288, 65, 4, 'b', 1],\n",
    "                     [95, 21, 297, 64, 4, 'a', 1],\n",
    "                     [95, 21, 297, 64, 4, 'b', 1],\n",
    "                     [95, 21, 297, 64, 4, 'c', 1],\n",
    "                     [10, 25, 300, 76, 5, 'a', 0],\n",
    "                     [11, 19, 283, 70, 5, 'c', 0],\n",
    "                     [12, 19, 306, 59, 5, 'a', 1],\n",
    "                     [12, 19, 306, 59, 5, 'c', 1],\n",
    "                     [13, 18, 298, 55, 3, 'c', 1],\n",
    "                     [20, 20, 250, 70, 5, 'c', 0],\n",
    "                     [21, 20, 254, 68, 4, 'a', 1],\n",
    "                     [21, 20, 254, 68, 4, 'c', 1],\n",
    "                     [22, 19, 244, 70, 3, 'a', 1],\n",
    "                     [30, 27, 264, 78, 4, 'b', 0],\n",
    "                     [31, 22, 293, 67, 4, 'b', 1]])"
   ]
  },
  {
   "cell_type": "code",
   "execution_count": 13,
   "metadata": {},
   "outputs": [
    {
     "data": {
      "text/plain": [
       "array([['0', '23', '284', '70', '5', 'nan', '0'],\n",
       "       ['91', '23', '284', '70', '5', 'b', '0'],\n",
       "       ['92', '24', '270', '73', '5', 'b', '0'],\n",
       "       ['93', '22', '290', '71', '5', 'a', '0'],\n",
       "       ['93', '22', '290', '71', '5', 'b', '0'],\n",
       "       ['94', '20', '288', '65', '4', 'a', '1'],\n",
       "       ['94', '20', '288', '65', '4', 'b', '1'],\n",
       "       ['95', '21', '297', '64', '4', 'a', '1'],\n",
       "       ['95', '21', '297', '64', '4', 'b', '1'],\n",
       "       ['95', '21', '297', '64', '4', 'c', '1'],\n",
       "       ['10', '25', '300', '76', '5', 'a', '0'],\n",
       "       ['11', '19', '283', '70', '5', 'c', '0'],\n",
       "       ['12', '19', '306', '59', '5', 'a', '1'],\n",
       "       ['12', '19', '306', '59', '5', 'c', '1'],\n",
       "       ['13', '18', '298', '55', '3', 'c', '1'],\n",
       "       ['20', '20', '250', '70', '5', 'c', '0'],\n",
       "       ['21', '20', '254', '68', '4', 'a', '1'],\n",
       "       ['21', '20', '254', '68', '4', 'c', '1'],\n",
       "       ['22', '19', '244', '70', '3', 'a', '1'],\n",
       "       ['30', '27', '264', '78', '4', 'b', '0'],\n",
       "       ['31', '22', '293', '67', '4', 'b', '1']], dtype='<U32')"
      ]
     },
     "execution_count": 13,
     "metadata": {},
     "output_type": "execute_result"
    }
   ],
   "source": [
    "dmy_data"
   ]
  },
  {
   "cell_type": "code",
   "execution_count": 14,
   "metadata": {},
   "outputs": [
    {
     "data": {
      "text/html": [
       "<div>\n",
       "<style scoped>\n",
       "    .dataframe tbody tr th:only-of-type {\n",
       "        vertical-align: middle;\n",
       "    }\n",
       "\n",
       "    .dataframe tbody tr th {\n",
       "        vertical-align: top;\n",
       "    }\n",
       "\n",
       "    .dataframe thead th {\n",
       "        text-align: right;\n",
       "    }\n",
       "</style>\n",
       "<table border=\"1\" class=\"dataframe\">\n",
       "  <thead>\n",
       "    <tr style=\"text-align: right;\">\n",
       "      <th></th>\n",
       "      <th>subject_id</th>\n",
       "      <th>Var0</th>\n",
       "      <th>Var1</th>\n",
       "      <th>Var2</th>\n",
       "      <th>Var3</th>\n",
       "      <th>Var4</th>\n",
       "      <th>label</th>\n",
       "    </tr>\n",
       "  </thead>\n",
       "  <tbody>\n",
       "    <tr>\n",
       "      <th>0</th>\n",
       "      <td>0</td>\n",
       "      <td>23</td>\n",
       "      <td>284</td>\n",
       "      <td>70</td>\n",
       "      <td>5</td>\n",
       "      <td>nan</td>\n",
       "      <td>0</td>\n",
       "    </tr>\n",
       "    <tr>\n",
       "      <th>1</th>\n",
       "      <td>91</td>\n",
       "      <td>23</td>\n",
       "      <td>284</td>\n",
       "      <td>70</td>\n",
       "      <td>5</td>\n",
       "      <td>b</td>\n",
       "      <td>0</td>\n",
       "    </tr>\n",
       "    <tr>\n",
       "      <th>2</th>\n",
       "      <td>92</td>\n",
       "      <td>24</td>\n",
       "      <td>270</td>\n",
       "      <td>73</td>\n",
       "      <td>5</td>\n",
       "      <td>b</td>\n",
       "      <td>0</td>\n",
       "    </tr>\n",
       "    <tr>\n",
       "      <th>3</th>\n",
       "      <td>93</td>\n",
       "      <td>22</td>\n",
       "      <td>290</td>\n",
       "      <td>71</td>\n",
       "      <td>5</td>\n",
       "      <td>a</td>\n",
       "      <td>0</td>\n",
       "    </tr>\n",
       "    <tr>\n",
       "      <th>4</th>\n",
       "      <td>93</td>\n",
       "      <td>22</td>\n",
       "      <td>290</td>\n",
       "      <td>71</td>\n",
       "      <td>5</td>\n",
       "      <td>b</td>\n",
       "      <td>0</td>\n",
       "    </tr>\n",
       "    <tr>\n",
       "      <th>5</th>\n",
       "      <td>94</td>\n",
       "      <td>20</td>\n",
       "      <td>288</td>\n",
       "      <td>65</td>\n",
       "      <td>4</td>\n",
       "      <td>a</td>\n",
       "      <td>1</td>\n",
       "    </tr>\n",
       "    <tr>\n",
       "      <th>6</th>\n",
       "      <td>94</td>\n",
       "      <td>20</td>\n",
       "      <td>288</td>\n",
       "      <td>65</td>\n",
       "      <td>4</td>\n",
       "      <td>b</td>\n",
       "      <td>1</td>\n",
       "    </tr>\n",
       "    <tr>\n",
       "      <th>7</th>\n",
       "      <td>95</td>\n",
       "      <td>21</td>\n",
       "      <td>297</td>\n",
       "      <td>64</td>\n",
       "      <td>4</td>\n",
       "      <td>a</td>\n",
       "      <td>1</td>\n",
       "    </tr>\n",
       "    <tr>\n",
       "      <th>8</th>\n",
       "      <td>95</td>\n",
       "      <td>21</td>\n",
       "      <td>297</td>\n",
       "      <td>64</td>\n",
       "      <td>4</td>\n",
       "      <td>b</td>\n",
       "      <td>1</td>\n",
       "    </tr>\n",
       "    <tr>\n",
       "      <th>9</th>\n",
       "      <td>95</td>\n",
       "      <td>21</td>\n",
       "      <td>297</td>\n",
       "      <td>64</td>\n",
       "      <td>4</td>\n",
       "      <td>c</td>\n",
       "      <td>1</td>\n",
       "    </tr>\n",
       "    <tr>\n",
       "      <th>10</th>\n",
       "      <td>10</td>\n",
       "      <td>25</td>\n",
       "      <td>300</td>\n",
       "      <td>76</td>\n",
       "      <td>5</td>\n",
       "      <td>a</td>\n",
       "      <td>0</td>\n",
       "    </tr>\n",
       "    <tr>\n",
       "      <th>11</th>\n",
       "      <td>11</td>\n",
       "      <td>19</td>\n",
       "      <td>283</td>\n",
       "      <td>70</td>\n",
       "      <td>5</td>\n",
       "      <td>c</td>\n",
       "      <td>0</td>\n",
       "    </tr>\n",
       "    <tr>\n",
       "      <th>12</th>\n",
       "      <td>12</td>\n",
       "      <td>19</td>\n",
       "      <td>306</td>\n",
       "      <td>59</td>\n",
       "      <td>5</td>\n",
       "      <td>a</td>\n",
       "      <td>1</td>\n",
       "    </tr>\n",
       "    <tr>\n",
       "      <th>13</th>\n",
       "      <td>12</td>\n",
       "      <td>19</td>\n",
       "      <td>306</td>\n",
       "      <td>59</td>\n",
       "      <td>5</td>\n",
       "      <td>c</td>\n",
       "      <td>1</td>\n",
       "    </tr>\n",
       "    <tr>\n",
       "      <th>14</th>\n",
       "      <td>13</td>\n",
       "      <td>18</td>\n",
       "      <td>298</td>\n",
       "      <td>55</td>\n",
       "      <td>3</td>\n",
       "      <td>c</td>\n",
       "      <td>1</td>\n",
       "    </tr>\n",
       "    <tr>\n",
       "      <th>15</th>\n",
       "      <td>20</td>\n",
       "      <td>20</td>\n",
       "      <td>250</td>\n",
       "      <td>70</td>\n",
       "      <td>5</td>\n",
       "      <td>c</td>\n",
       "      <td>0</td>\n",
       "    </tr>\n",
       "    <tr>\n",
       "      <th>16</th>\n",
       "      <td>21</td>\n",
       "      <td>20</td>\n",
       "      <td>254</td>\n",
       "      <td>68</td>\n",
       "      <td>4</td>\n",
       "      <td>a</td>\n",
       "      <td>1</td>\n",
       "    </tr>\n",
       "    <tr>\n",
       "      <th>17</th>\n",
       "      <td>21</td>\n",
       "      <td>20</td>\n",
       "      <td>254</td>\n",
       "      <td>68</td>\n",
       "      <td>4</td>\n",
       "      <td>c</td>\n",
       "      <td>1</td>\n",
       "    </tr>\n",
       "    <tr>\n",
       "      <th>18</th>\n",
       "      <td>22</td>\n",
       "      <td>19</td>\n",
       "      <td>244</td>\n",
       "      <td>70</td>\n",
       "      <td>3</td>\n",
       "      <td>a</td>\n",
       "      <td>1</td>\n",
       "    </tr>\n",
       "    <tr>\n",
       "      <th>19</th>\n",
       "      <td>30</td>\n",
       "      <td>27</td>\n",
       "      <td>264</td>\n",
       "      <td>78</td>\n",
       "      <td>4</td>\n",
       "      <td>b</td>\n",
       "      <td>0</td>\n",
       "    </tr>\n",
       "    <tr>\n",
       "      <th>20</th>\n",
       "      <td>31</td>\n",
       "      <td>22</td>\n",
       "      <td>293</td>\n",
       "      <td>67</td>\n",
       "      <td>4</td>\n",
       "      <td>b</td>\n",
       "      <td>1</td>\n",
       "    </tr>\n",
       "  </tbody>\n",
       "</table>\n",
       "</div>"
      ],
      "text/plain": [
       "   subject_id Var0 Var1 Var2 Var3 Var4 label\n",
       "0           0   23  284   70    5  nan     0\n",
       "1          91   23  284   70    5    b     0\n",
       "2          92   24  270   73    5    b     0\n",
       "3          93   22  290   71    5    a     0\n",
       "4          93   22  290   71    5    b     0\n",
       "5          94   20  288   65    4    a     1\n",
       "6          94   20  288   65    4    b     1\n",
       "7          95   21  297   64    4    a     1\n",
       "8          95   21  297   64    4    b     1\n",
       "9          95   21  297   64    4    c     1\n",
       "10         10   25  300   76    5    a     0\n",
       "11         11   19  283   70    5    c     0\n",
       "12         12   19  306   59    5    a     1\n",
       "13         12   19  306   59    5    c     1\n",
       "14         13   18  298   55    3    c     1\n",
       "15         20   20  250   70    5    c     0\n",
       "16         21   20  254   68    4    a     1\n",
       "17         21   20  254   68    4    c     1\n",
       "18         22   19  244   70    3    a     1\n",
       "19         30   27  264   78    4    b     0\n",
       "20         31   22  293   67    4    b     1"
      ]
     },
     "execution_count": 14,
     "metadata": {},
     "output_type": "execute_result"
    }
   ],
   "source": [
    "dmy_df = pd.DataFrame(dmy_data, columns=['subject_id', 'Var0', 'Var1', 'Var2', 'Var3', 'Var4', 'label'])\n",
    "dmy_df"
   ]
  },
  {
   "cell_type": "code",
   "execution_count": 15,
   "metadata": {},
   "outputs": [
    {
     "data": {
      "text/plain": [
       "subject_id    object\n",
       "Var0          object\n",
       "Var1          object\n",
       "Var2          object\n",
       "Var3          object\n",
       "Var4          object\n",
       "label         object\n",
       "dtype: object"
      ]
     },
     "execution_count": 15,
     "metadata": {},
     "output_type": "execute_result"
    }
   ],
   "source": [
    "dmy_df.dtypes"
   ]
  },
  {
   "cell_type": "markdown",
   "metadata": {},
   "source": [
    "Fix the columns dtypes:"
   ]
  },
  {
   "cell_type": "code",
   "execution_count": 16,
   "metadata": {},
   "outputs": [],
   "source": [
    "dmy_df['subject_id'] = dmy_df['subject_id'].astype(int)\n",
    "dmy_df['Var0'] = dmy_df['Var0'].astype(int)\n",
    "dmy_df['Var1'] = dmy_df['Var1'].astype(int)\n",
    "dmy_df['Var2'] = dmy_df['Var2'].astype(int)\n",
    "dmy_df['Var3'] = dmy_df['Var3'].astype(int)\n",
    "dmy_df['Var4'] = dmy_df['Var4'].astype(str)\n",
    "dmy_df['label'] = dmy_df['label'].astype(int)"
   ]
  },
  {
   "cell_type": "code",
   "execution_count": 17,
   "metadata": {},
   "outputs": [
    {
     "data": {
      "text/plain": [
       "subject_id     int64\n",
       "Var0           int64\n",
       "Var1           int64\n",
       "Var2           int64\n",
       "Var3           int64\n",
       "Var4          object\n",
       "label          int64\n",
       "dtype: object"
      ]
     },
     "execution_count": 17,
     "metadata": {},
     "output_type": "execute_result"
    }
   ],
   "source": [
    "dmy_df.dtypes"
   ]
  },
  {
   "cell_type": "code",
   "execution_count": 18,
   "metadata": {},
   "outputs": [],
   "source": [
    "# List of used features\n",
    "dmy_cols = list(dmy_df.columns)\n",
    "\n",
    "# Remove features that aren't used by the model to predict the label\n",
    "for unused_feature in ['subject_id', 'label']:\n",
    "    dmy_cols.remove(unused_feature)"
   ]
  },
  {
   "cell_type": "code",
   "execution_count": 19,
   "metadata": {},
   "outputs": [
    {
     "data": {
      "text/plain": [
       "['Var0', 'Var1', 'Var2', 'Var3', 'Var4']"
      ]
     },
     "execution_count": 19,
     "metadata": {},
     "output_type": "execute_result"
    }
   ],
   "source": [
    "dmy_cols"
   ]
  },
  {
   "cell_type": "markdown",
   "metadata": {},
   "source": [
    "## Preparing the dataset"
   ]
  },
  {
   "cell_type": "markdown",
   "metadata": {},
   "source": [
    "### Encoding categories\n",
    "\n",
    "Converting the categorical feature `Var4` into a numeric format, so that it can be used by the neural networks and by embedding layers."
   ]
  },
  {
   "cell_type": "markdown",
   "metadata": {},
   "source": [
    "Encode each row's categorical value:"
   ]
  },
  {
   "cell_type": "code",
   "execution_count": 20,
   "metadata": {
    "pixiedust": {
     "displayParams": {}
    }
   },
   "outputs": [
    {
     "data": {
      "text/html": [
       "<div>\n",
       "<style scoped>\n",
       "    .dataframe tbody tr th:only-of-type {\n",
       "        vertical-align: middle;\n",
       "    }\n",
       "\n",
       "    .dataframe tbody tr th {\n",
       "        vertical-align: top;\n",
       "    }\n",
       "\n",
       "    .dataframe thead th {\n",
       "        text-align: right;\n",
       "    }\n",
       "</style>\n",
       "<table border=\"1\" class=\"dataframe\">\n",
       "  <thead>\n",
       "    <tr style=\"text-align: right;\">\n",
       "      <th></th>\n",
       "      <th>subject_id</th>\n",
       "      <th>Var0</th>\n",
       "      <th>Var1</th>\n",
       "      <th>Var2</th>\n",
       "      <th>Var3</th>\n",
       "      <th>Var4</th>\n",
       "      <th>label</th>\n",
       "    </tr>\n",
       "  </thead>\n",
       "  <tbody>\n",
       "    <tr>\n",
       "      <th>0</th>\n",
       "      <td>0</td>\n",
       "      <td>23</td>\n",
       "      <td>284</td>\n",
       "      <td>70</td>\n",
       "      <td>5</td>\n",
       "      <td>0</td>\n",
       "      <td>0</td>\n",
       "    </tr>\n",
       "    <tr>\n",
       "      <th>1</th>\n",
       "      <td>91</td>\n",
       "      <td>23</td>\n",
       "      <td>284</td>\n",
       "      <td>70</td>\n",
       "      <td>5</td>\n",
       "      <td>2</td>\n",
       "      <td>0</td>\n",
       "    </tr>\n",
       "    <tr>\n",
       "      <th>2</th>\n",
       "      <td>92</td>\n",
       "      <td>24</td>\n",
       "      <td>270</td>\n",
       "      <td>73</td>\n",
       "      <td>5</td>\n",
       "      <td>2</td>\n",
       "      <td>0</td>\n",
       "    </tr>\n",
       "    <tr>\n",
       "      <th>3</th>\n",
       "      <td>93</td>\n",
       "      <td>22</td>\n",
       "      <td>290</td>\n",
       "      <td>71</td>\n",
       "      <td>5</td>\n",
       "      <td>3</td>\n",
       "      <td>0</td>\n",
       "    </tr>\n",
       "    <tr>\n",
       "      <th>4</th>\n",
       "      <td>93</td>\n",
       "      <td>22</td>\n",
       "      <td>290</td>\n",
       "      <td>71</td>\n",
       "      <td>5</td>\n",
       "      <td>2</td>\n",
       "      <td>0</td>\n",
       "    </tr>\n",
       "    <tr>\n",
       "      <th>5</th>\n",
       "      <td>94</td>\n",
       "      <td>20</td>\n",
       "      <td>288</td>\n",
       "      <td>65</td>\n",
       "      <td>4</td>\n",
       "      <td>3</td>\n",
       "      <td>1</td>\n",
       "    </tr>\n",
       "    <tr>\n",
       "      <th>6</th>\n",
       "      <td>94</td>\n",
       "      <td>20</td>\n",
       "      <td>288</td>\n",
       "      <td>65</td>\n",
       "      <td>4</td>\n",
       "      <td>2</td>\n",
       "      <td>1</td>\n",
       "    </tr>\n",
       "    <tr>\n",
       "      <th>7</th>\n",
       "      <td>95</td>\n",
       "      <td>21</td>\n",
       "      <td>297</td>\n",
       "      <td>64</td>\n",
       "      <td>4</td>\n",
       "      <td>3</td>\n",
       "      <td>1</td>\n",
       "    </tr>\n",
       "    <tr>\n",
       "      <th>8</th>\n",
       "      <td>95</td>\n",
       "      <td>21</td>\n",
       "      <td>297</td>\n",
       "      <td>64</td>\n",
       "      <td>4</td>\n",
       "      <td>2</td>\n",
       "      <td>1</td>\n",
       "    </tr>\n",
       "    <tr>\n",
       "      <th>9</th>\n",
       "      <td>95</td>\n",
       "      <td>21</td>\n",
       "      <td>297</td>\n",
       "      <td>64</td>\n",
       "      <td>4</td>\n",
       "      <td>4</td>\n",
       "      <td>1</td>\n",
       "    </tr>\n",
       "    <tr>\n",
       "      <th>10</th>\n",
       "      <td>10</td>\n",
       "      <td>25</td>\n",
       "      <td>300</td>\n",
       "      <td>76</td>\n",
       "      <td>5</td>\n",
       "      <td>3</td>\n",
       "      <td>0</td>\n",
       "    </tr>\n",
       "    <tr>\n",
       "      <th>11</th>\n",
       "      <td>11</td>\n",
       "      <td>19</td>\n",
       "      <td>283</td>\n",
       "      <td>70</td>\n",
       "      <td>5</td>\n",
       "      <td>4</td>\n",
       "      <td>0</td>\n",
       "    </tr>\n",
       "    <tr>\n",
       "      <th>12</th>\n",
       "      <td>12</td>\n",
       "      <td>19</td>\n",
       "      <td>306</td>\n",
       "      <td>59</td>\n",
       "      <td>5</td>\n",
       "      <td>3</td>\n",
       "      <td>1</td>\n",
       "    </tr>\n",
       "    <tr>\n",
       "      <th>13</th>\n",
       "      <td>12</td>\n",
       "      <td>19</td>\n",
       "      <td>306</td>\n",
       "      <td>59</td>\n",
       "      <td>5</td>\n",
       "      <td>4</td>\n",
       "      <td>1</td>\n",
       "    </tr>\n",
       "    <tr>\n",
       "      <th>14</th>\n",
       "      <td>13</td>\n",
       "      <td>18</td>\n",
       "      <td>298</td>\n",
       "      <td>55</td>\n",
       "      <td>3</td>\n",
       "      <td>4</td>\n",
       "      <td>1</td>\n",
       "    </tr>\n",
       "    <tr>\n",
       "      <th>15</th>\n",
       "      <td>20</td>\n",
       "      <td>20</td>\n",
       "      <td>250</td>\n",
       "      <td>70</td>\n",
       "      <td>5</td>\n",
       "      <td>4</td>\n",
       "      <td>0</td>\n",
       "    </tr>\n",
       "    <tr>\n",
       "      <th>16</th>\n",
       "      <td>21</td>\n",
       "      <td>20</td>\n",
       "      <td>254</td>\n",
       "      <td>68</td>\n",
       "      <td>4</td>\n",
       "      <td>3</td>\n",
       "      <td>1</td>\n",
       "    </tr>\n",
       "    <tr>\n",
       "      <th>17</th>\n",
       "      <td>21</td>\n",
       "      <td>20</td>\n",
       "      <td>254</td>\n",
       "      <td>68</td>\n",
       "      <td>4</td>\n",
       "      <td>4</td>\n",
       "      <td>1</td>\n",
       "    </tr>\n",
       "    <tr>\n",
       "      <th>18</th>\n",
       "      <td>22</td>\n",
       "      <td>19</td>\n",
       "      <td>244</td>\n",
       "      <td>70</td>\n",
       "      <td>3</td>\n",
       "      <td>3</td>\n",
       "      <td>1</td>\n",
       "    </tr>\n",
       "    <tr>\n",
       "      <th>19</th>\n",
       "      <td>30</td>\n",
       "      <td>27</td>\n",
       "      <td>264</td>\n",
       "      <td>78</td>\n",
       "      <td>4</td>\n",
       "      <td>2</td>\n",
       "      <td>0</td>\n",
       "    </tr>\n",
       "    <tr>\n",
       "      <th>20</th>\n",
       "      <td>31</td>\n",
       "      <td>22</td>\n",
       "      <td>293</td>\n",
       "      <td>67</td>\n",
       "      <td>4</td>\n",
       "      <td>2</td>\n",
       "      <td>1</td>\n",
       "    </tr>\n",
       "  </tbody>\n",
       "</table>\n",
       "</div>"
      ],
      "text/plain": [
       "    subject_id  Var0  Var1  Var2  Var3  Var4  label\n",
       "0            0    23   284    70     5     0      0\n",
       "1           91    23   284    70     5     2      0\n",
       "2           92    24   270    73     5     2      0\n",
       "3           93    22   290    71     5     3      0\n",
       "4           93    22   290    71     5     2      0\n",
       "5           94    20   288    65     4     3      1\n",
       "6           94    20   288    65     4     2      1\n",
       "7           95    21   297    64     4     3      1\n",
       "8           95    21   297    64     4     2      1\n",
       "9           95    21   297    64     4     4      1\n",
       "10          10    25   300    76     5     3      0\n",
       "11          11    19   283    70     5     4      0\n",
       "12          12    19   306    59     5     3      1\n",
       "13          12    19   306    59     5     4      1\n",
       "14          13    18   298    55     3     4      1\n",
       "15          20    20   250    70     5     4      0\n",
       "16          21    20   254    68     4     3      1\n",
       "17          21    20   254    68     4     4      1\n",
       "18          22    19   244    70     3     3      1\n",
       "19          30    27   264    78     4     2      0\n",
       "20          31    22   293    67     4     2      1"
      ]
     },
     "execution_count": 20,
     "metadata": {},
     "output_type": "execute_result"
    }
   ],
   "source": [
    "dmy_df['Var4'], enum_dict = du.embedding.enum_categorical_feature(dmy_df, feature='Var4')\n",
    "dmy_df"
   ]
  },
  {
   "cell_type": "code",
   "execution_count": 21,
   "metadata": {},
   "outputs": [
    {
     "data": {
      "text/plain": [
       "{nan: 0, 'b': 2, 'a': 3, 'c': 4}"
      ]
     },
     "execution_count": 21,
     "metadata": {},
     "output_type": "execute_result"
    }
   ],
   "source": [
    "enum_dict"
   ]
  },
  {
   "cell_type": "markdown",
   "metadata": {},
   "source": [
    "Join the rows and their categories:"
   ]
  },
  {
   "cell_type": "code",
   "execution_count": 22,
   "metadata": {},
   "outputs": [
    {
     "name": "stdout",
     "output_type": "stream",
     "text": [
      "Concatenating categorical encodings...\n"
     ]
    },
    {
     "data": {
      "application/vnd.jupyter.widget-view+json": {
       "model_id": "3b17e717e79c4a58899b3bbd8b1a77b5",
       "version_major": 2,
       "version_minor": 0
      },
      "text/plain": [
       "HBox(children=(IntProgress(value=0, max=1), HTML(value='')))"
      ]
     },
     "metadata": {},
     "output_type": "display_data"
    },
    {
     "name": "stdout",
     "output_type": "stream",
     "text": [
      "\n",
      "Joining continuous features...\n"
     ]
    },
    {
     "data": {
      "application/vnd.jupyter.widget-view+json": {
       "model_id": "df4089c10fe642a68e5b3d0980ce7eee",
       "version_major": 2,
       "version_minor": 0
      },
      "text/plain": [
       "HBox(children=(IntProgress(value=0, max=6), HTML(value='')))"
      ]
     },
     "metadata": {},
     "output_type": "display_data"
    },
    {
     "name": "stdout",
     "output_type": "stream",
     "text": [
      "\n",
      "Merging features' dataframes...\n",
      "Done!\n"
     ]
    },
    {
     "data": {
      "text/html": [
       "<div>\n",
       "<style scoped>\n",
       "    .dataframe tbody tr th:only-of-type {\n",
       "        vertical-align: middle;\n",
       "    }\n",
       "\n",
       "    .dataframe tbody tr th {\n",
       "        vertical-align: top;\n",
       "    }\n",
       "\n",
       "    .dataframe thead th {\n",
       "        text-align: right;\n",
       "    }\n",
       "</style>\n",
       "<table border=\"1\" class=\"dataframe\">\n",
       "  <thead>\n",
       "    <tr style=\"text-align: right;\">\n",
       "      <th></th>\n",
       "      <th>subject_id</th>\n",
       "      <th>Var4</th>\n",
       "      <th>Var0</th>\n",
       "      <th>Var1</th>\n",
       "      <th>Var2</th>\n",
       "      <th>Var3</th>\n",
       "      <th>label</th>\n",
       "    </tr>\n",
       "  </thead>\n",
       "  <tbody>\n",
       "    <tr>\n",
       "      <th>0</th>\n",
       "      <td>0</td>\n",
       "      <td>0</td>\n",
       "      <td>23</td>\n",
       "      <td>284</td>\n",
       "      <td>70</td>\n",
       "      <td>5</td>\n",
       "      <td>0</td>\n",
       "    </tr>\n",
       "    <tr>\n",
       "      <th>1</th>\n",
       "      <td>10</td>\n",
       "      <td>3</td>\n",
       "      <td>25</td>\n",
       "      <td>300</td>\n",
       "      <td>76</td>\n",
       "      <td>5</td>\n",
       "      <td>0</td>\n",
       "    </tr>\n",
       "    <tr>\n",
       "      <th>2</th>\n",
       "      <td>11</td>\n",
       "      <td>4</td>\n",
       "      <td>19</td>\n",
       "      <td>283</td>\n",
       "      <td>70</td>\n",
       "      <td>5</td>\n",
       "      <td>0</td>\n",
       "    </tr>\n",
       "    <tr>\n",
       "      <th>3</th>\n",
       "      <td>12</td>\n",
       "      <td>3;4</td>\n",
       "      <td>19</td>\n",
       "      <td>306</td>\n",
       "      <td>59</td>\n",
       "      <td>5</td>\n",
       "      <td>1</td>\n",
       "    </tr>\n",
       "    <tr>\n",
       "      <th>4</th>\n",
       "      <td>13</td>\n",
       "      <td>4</td>\n",
       "      <td>18</td>\n",
       "      <td>298</td>\n",
       "      <td>55</td>\n",
       "      <td>3</td>\n",
       "      <td>1</td>\n",
       "    </tr>\n",
       "    <tr>\n",
       "      <th>5</th>\n",
       "      <td>20</td>\n",
       "      <td>4</td>\n",
       "      <td>20</td>\n",
       "      <td>250</td>\n",
       "      <td>70</td>\n",
       "      <td>5</td>\n",
       "      <td>0</td>\n",
       "    </tr>\n",
       "    <tr>\n",
       "      <th>6</th>\n",
       "      <td>21</td>\n",
       "      <td>3;4</td>\n",
       "      <td>20</td>\n",
       "      <td>254</td>\n",
       "      <td>68</td>\n",
       "      <td>4</td>\n",
       "      <td>1</td>\n",
       "    </tr>\n",
       "    <tr>\n",
       "      <th>7</th>\n",
       "      <td>22</td>\n",
       "      <td>3</td>\n",
       "      <td>19</td>\n",
       "      <td>244</td>\n",
       "      <td>70</td>\n",
       "      <td>3</td>\n",
       "      <td>1</td>\n",
       "    </tr>\n",
       "    <tr>\n",
       "      <th>8</th>\n",
       "      <td>30</td>\n",
       "      <td>2</td>\n",
       "      <td>27</td>\n",
       "      <td>264</td>\n",
       "      <td>78</td>\n",
       "      <td>4</td>\n",
       "      <td>0</td>\n",
       "    </tr>\n",
       "    <tr>\n",
       "      <th>9</th>\n",
       "      <td>31</td>\n",
       "      <td>2</td>\n",
       "      <td>22</td>\n",
       "      <td>293</td>\n",
       "      <td>67</td>\n",
       "      <td>4</td>\n",
       "      <td>1</td>\n",
       "    </tr>\n",
       "    <tr>\n",
       "      <th>10</th>\n",
       "      <td>91</td>\n",
       "      <td>2</td>\n",
       "      <td>23</td>\n",
       "      <td>284</td>\n",
       "      <td>70</td>\n",
       "      <td>5</td>\n",
       "      <td>0</td>\n",
       "    </tr>\n",
       "    <tr>\n",
       "      <th>11</th>\n",
       "      <td>92</td>\n",
       "      <td>2</td>\n",
       "      <td>24</td>\n",
       "      <td>270</td>\n",
       "      <td>73</td>\n",
       "      <td>5</td>\n",
       "      <td>0</td>\n",
       "    </tr>\n",
       "    <tr>\n",
       "      <th>12</th>\n",
       "      <td>93</td>\n",
       "      <td>3;2</td>\n",
       "      <td>22</td>\n",
       "      <td>290</td>\n",
       "      <td>71</td>\n",
       "      <td>5</td>\n",
       "      <td>0</td>\n",
       "    </tr>\n",
       "    <tr>\n",
       "      <th>13</th>\n",
       "      <td>94</td>\n",
       "      <td>3;2</td>\n",
       "      <td>20</td>\n",
       "      <td>288</td>\n",
       "      <td>65</td>\n",
       "      <td>4</td>\n",
       "      <td>1</td>\n",
       "    </tr>\n",
       "    <tr>\n",
       "      <th>14</th>\n",
       "      <td>95</td>\n",
       "      <td>3;2;4</td>\n",
       "      <td>21</td>\n",
       "      <td>297</td>\n",
       "      <td>64</td>\n",
       "      <td>4</td>\n",
       "      <td>1</td>\n",
       "    </tr>\n",
       "  </tbody>\n",
       "</table>\n",
       "</div>"
      ],
      "text/plain": [
       "    subject_id   Var4  Var0  Var1  Var2  Var3  label\n",
       "0            0      0    23   284    70     5      0\n",
       "1           10      3    25   300    76     5      0\n",
       "2           11      4    19   283    70     5      0\n",
       "3           12    3;4    19   306    59     5      1\n",
       "4           13      4    18   298    55     3      1\n",
       "5           20      4    20   250    70     5      0\n",
       "6           21    3;4    20   254    68     4      1\n",
       "7           22      3    19   244    70     3      1\n",
       "8           30      2    27   264    78     4      0\n",
       "9           31      2    22   293    67     4      1\n",
       "10          91      2    23   284    70     5      0\n",
       "11          92      2    24   270    73     5      0\n",
       "12          93    3;2    22   290    71     5      0\n",
       "13          94    3;2    20   288    65     4      1\n",
       "14          95  3;2;4    21   297    64     4      1"
      ]
     },
     "execution_count": 22,
     "metadata": {},
     "output_type": "execute_result"
    }
   ],
   "source": [
    "dmy_df = du.embedding.join_categorical_enum(dmy_df, cat_feat='Var4', id_columns='subject_id')\n",
    "dmy_df"
   ]
  },
  {
   "cell_type": "markdown",
   "metadata": {},
   "source": [
    "### Normalizing the features"
   ]
  },
  {
   "cell_type": "code",
   "execution_count": 23,
   "metadata": {},
   "outputs": [
    {
     "data": {
      "text/html": [
       "<div>\n",
       "<style scoped>\n",
       "    .dataframe tbody tr th:only-of-type {\n",
       "        vertical-align: middle;\n",
       "    }\n",
       "\n",
       "    .dataframe tbody tr th {\n",
       "        vertical-align: top;\n",
       "    }\n",
       "\n",
       "    .dataframe thead th {\n",
       "        text-align: right;\n",
       "    }\n",
       "</style>\n",
       "<table border=\"1\" class=\"dataframe\">\n",
       "  <thead>\n",
       "    <tr style=\"text-align: right;\">\n",
       "      <th></th>\n",
       "      <th>count</th>\n",
       "      <th>mean</th>\n",
       "      <th>std</th>\n",
       "      <th>min</th>\n",
       "      <th>25%</th>\n",
       "      <th>50%</th>\n",
       "      <th>75%</th>\n",
       "      <th>max</th>\n",
       "    </tr>\n",
       "  </thead>\n",
       "  <tbody>\n",
       "    <tr>\n",
       "      <th>subject_id</th>\n",
       "      <td>15.0</td>\n",
       "      <td>42.333333</td>\n",
       "      <td>37.884536</td>\n",
       "      <td>0.0</td>\n",
       "      <td>12.5</td>\n",
       "      <td>22.0</td>\n",
       "      <td>91.5</td>\n",
       "      <td>95.0</td>\n",
       "    </tr>\n",
       "    <tr>\n",
       "      <th>Var0</th>\n",
       "      <td>15.0</td>\n",
       "      <td>21.466667</td>\n",
       "      <td>2.559762</td>\n",
       "      <td>18.0</td>\n",
       "      <td>19.5</td>\n",
       "      <td>21.0</td>\n",
       "      <td>23.0</td>\n",
       "      <td>27.0</td>\n",
       "    </tr>\n",
       "    <tr>\n",
       "      <th>Var1</th>\n",
       "      <td>15.0</td>\n",
       "      <td>280.333333</td>\n",
       "      <td>19.437323</td>\n",
       "      <td>244.0</td>\n",
       "      <td>267.0</td>\n",
       "      <td>284.0</td>\n",
       "      <td>295.0</td>\n",
       "      <td>306.0</td>\n",
       "    </tr>\n",
       "    <tr>\n",
       "      <th>Var2</th>\n",
       "      <td>15.0</td>\n",
       "      <td>68.400000</td>\n",
       "      <td>5.925731</td>\n",
       "      <td>55.0</td>\n",
       "      <td>66.0</td>\n",
       "      <td>70.0</td>\n",
       "      <td>70.5</td>\n",
       "      <td>78.0</td>\n",
       "    </tr>\n",
       "    <tr>\n",
       "      <th>Var3</th>\n",
       "      <td>15.0</td>\n",
       "      <td>4.400000</td>\n",
       "      <td>0.736788</td>\n",
       "      <td>3.0</td>\n",
       "      <td>4.0</td>\n",
       "      <td>5.0</td>\n",
       "      <td>5.0</td>\n",
       "      <td>5.0</td>\n",
       "    </tr>\n",
       "    <tr>\n",
       "      <th>label</th>\n",
       "      <td>15.0</td>\n",
       "      <td>0.466667</td>\n",
       "      <td>0.516398</td>\n",
       "      <td>0.0</td>\n",
       "      <td>0.0</td>\n",
       "      <td>0.0</td>\n",
       "      <td>1.0</td>\n",
       "      <td>1.0</td>\n",
       "    </tr>\n",
       "  </tbody>\n",
       "</table>\n",
       "</div>"
      ],
      "text/plain": [
       "            count        mean        std    min    25%    50%    75%    max\n",
       "subject_id   15.0   42.333333  37.884536    0.0   12.5   22.0   91.5   95.0\n",
       "Var0         15.0   21.466667   2.559762   18.0   19.5   21.0   23.0   27.0\n",
       "Var1         15.0  280.333333  19.437323  244.0  267.0  284.0  295.0  306.0\n",
       "Var2         15.0   68.400000   5.925731   55.0   66.0   70.0   70.5   78.0\n",
       "Var3         15.0    4.400000   0.736788    3.0    4.0    5.0    5.0    5.0\n",
       "label        15.0    0.466667   0.516398    0.0    0.0    0.0    1.0    1.0"
      ]
     },
     "execution_count": 23,
     "metadata": {},
     "output_type": "execute_result"
    }
   ],
   "source": [
    "dmy_df.describe().transpose()"
   ]
  },
  {
   "cell_type": "code",
   "execution_count": 24,
   "metadata": {
    "pixiedust": {
     "displayParams": {}
    }
   },
   "outputs": [
    {
     "name": "stdout",
     "output_type": "stream",
     "text": [
      "z-score normalizing columns ['Var0', 'Var1', 'Var2', 'Var3']...\n"
     ]
    },
    {
     "data": {
      "text/html": [
       "<div>\n",
       "<style scoped>\n",
       "    .dataframe tbody tr th:only-of-type {\n",
       "        vertical-align: middle;\n",
       "    }\n",
       "\n",
       "    .dataframe tbody tr th {\n",
       "        vertical-align: top;\n",
       "    }\n",
       "\n",
       "    .dataframe thead th {\n",
       "        text-align: right;\n",
       "    }\n",
       "</style>\n",
       "<table border=\"1\" class=\"dataframe\">\n",
       "  <thead>\n",
       "    <tr style=\"text-align: right;\">\n",
       "      <th></th>\n",
       "      <th>subject_id</th>\n",
       "      <th>Var4</th>\n",
       "      <th>Var0</th>\n",
       "      <th>Var1</th>\n",
       "      <th>Var2</th>\n",
       "      <th>Var3</th>\n",
       "      <th>label</th>\n",
       "    </tr>\n",
       "  </thead>\n",
       "  <tbody>\n",
       "    <tr>\n",
       "      <th>0</th>\n",
       "      <td>0</td>\n",
       "      <td>0</td>\n",
       "      <td>0.599014</td>\n",
       "      <td>0.188641</td>\n",
       "      <td>0.270009</td>\n",
       "      <td>0.814345</td>\n",
       "      <td>0</td>\n",
       "    </tr>\n",
       "    <tr>\n",
       "      <th>1</th>\n",
       "      <td>10</td>\n",
       "      <td>3</td>\n",
       "      <td>1.380337</td>\n",
       "      <td>1.011799</td>\n",
       "      <td>1.282542</td>\n",
       "      <td>0.814345</td>\n",
       "      <td>0</td>\n",
       "    </tr>\n",
       "    <tr>\n",
       "      <th>2</th>\n",
       "      <td>11</td>\n",
       "      <td>4</td>\n",
       "      <td>-0.963631</td>\n",
       "      <td>0.137193</td>\n",
       "      <td>0.270009</td>\n",
       "      <td>0.814345</td>\n",
       "      <td>0</td>\n",
       "    </tr>\n",
       "    <tr>\n",
       "      <th>3</th>\n",
       "      <td>12</td>\n",
       "      <td>3;4</td>\n",
       "      <td>-0.963631</td>\n",
       "      <td>1.320484</td>\n",
       "      <td>-1.586302</td>\n",
       "      <td>0.814345</td>\n",
       "      <td>1</td>\n",
       "    </tr>\n",
       "    <tr>\n",
       "      <th>4</th>\n",
       "      <td>13</td>\n",
       "      <td>4</td>\n",
       "      <td>-1.354293</td>\n",
       "      <td>0.908904</td>\n",
       "      <td>-2.261324</td>\n",
       "      <td>-1.900138</td>\n",
       "      <td>1</td>\n",
       "    </tr>\n",
       "    <tr>\n",
       "      <th>5</th>\n",
       "      <td>20</td>\n",
       "      <td>4</td>\n",
       "      <td>-0.572970</td>\n",
       "      <td>-1.560572</td>\n",
       "      <td>0.270009</td>\n",
       "      <td>0.814345</td>\n",
       "      <td>0</td>\n",
       "    </tr>\n",
       "    <tr>\n",
       "      <th>6</th>\n",
       "      <td>21</td>\n",
       "      <td>3;4</td>\n",
       "      <td>-0.572970</td>\n",
       "      <td>-1.354782</td>\n",
       "      <td>-0.067502</td>\n",
       "      <td>-0.542897</td>\n",
       "      <td>1</td>\n",
       "    </tr>\n",
       "    <tr>\n",
       "      <th>7</th>\n",
       "      <td>22</td>\n",
       "      <td>3</td>\n",
       "      <td>-0.963631</td>\n",
       "      <td>-1.869256</td>\n",
       "      <td>0.270009</td>\n",
       "      <td>-1.900138</td>\n",
       "      <td>1</td>\n",
       "    </tr>\n",
       "    <tr>\n",
       "      <th>8</th>\n",
       "      <td>30</td>\n",
       "      <td>2</td>\n",
       "      <td>2.161659</td>\n",
       "      <td>-0.840308</td>\n",
       "      <td>1.620053</td>\n",
       "      <td>-0.542897</td>\n",
       "      <td>0</td>\n",
       "    </tr>\n",
       "    <tr>\n",
       "      <th>9</th>\n",
       "      <td>31</td>\n",
       "      <td>2</td>\n",
       "      <td>0.208353</td>\n",
       "      <td>0.651667</td>\n",
       "      <td>-0.236258</td>\n",
       "      <td>-0.542897</td>\n",
       "      <td>1</td>\n",
       "    </tr>\n",
       "    <tr>\n",
       "      <th>10</th>\n",
       "      <td>91</td>\n",
       "      <td>2</td>\n",
       "      <td>0.599014</td>\n",
       "      <td>0.188641</td>\n",
       "      <td>0.270009</td>\n",
       "      <td>0.814345</td>\n",
       "      <td>0</td>\n",
       "    </tr>\n",
       "    <tr>\n",
       "      <th>11</th>\n",
       "      <td>92</td>\n",
       "      <td>2</td>\n",
       "      <td>0.989675</td>\n",
       "      <td>-0.531623</td>\n",
       "      <td>0.776276</td>\n",
       "      <td>0.814345</td>\n",
       "      <td>0</td>\n",
       "    </tr>\n",
       "    <tr>\n",
       "      <th>12</th>\n",
       "      <td>93</td>\n",
       "      <td>3;2</td>\n",
       "      <td>0.208353</td>\n",
       "      <td>0.497325</td>\n",
       "      <td>0.438764</td>\n",
       "      <td>0.814345</td>\n",
       "      <td>0</td>\n",
       "    </tr>\n",
       "    <tr>\n",
       "      <th>13</th>\n",
       "      <td>94</td>\n",
       "      <td>3;2</td>\n",
       "      <td>-0.572970</td>\n",
       "      <td>0.394430</td>\n",
       "      <td>-0.573769</td>\n",
       "      <td>-0.542897</td>\n",
       "      <td>1</td>\n",
       "    </tr>\n",
       "    <tr>\n",
       "      <th>14</th>\n",
       "      <td>95</td>\n",
       "      <td>3;2;4</td>\n",
       "      <td>-0.182309</td>\n",
       "      <td>0.857457</td>\n",
       "      <td>-0.742524</td>\n",
       "      <td>-0.542897</td>\n",
       "      <td>1</td>\n",
       "    </tr>\n",
       "  </tbody>\n",
       "</table>\n",
       "</div>"
      ],
      "text/plain": [
       "    subject_id   Var4      Var0      Var1      Var2      Var3  label\n",
       "0            0      0  0.599014  0.188641  0.270009  0.814345      0\n",
       "1           10      3  1.380337  1.011799  1.282542  0.814345      0\n",
       "2           11      4 -0.963631  0.137193  0.270009  0.814345      0\n",
       "3           12    3;4 -0.963631  1.320484 -1.586302  0.814345      1\n",
       "4           13      4 -1.354293  0.908904 -2.261324 -1.900138      1\n",
       "5           20      4 -0.572970 -1.560572  0.270009  0.814345      0\n",
       "6           21    3;4 -0.572970 -1.354782 -0.067502 -0.542897      1\n",
       "7           22      3 -0.963631 -1.869256  0.270009 -1.900138      1\n",
       "8           30      2  2.161659 -0.840308  1.620053 -0.542897      0\n",
       "9           31      2  0.208353  0.651667 -0.236258 -0.542897      1\n",
       "10          91      2  0.599014  0.188641  0.270009  0.814345      0\n",
       "11          92      2  0.989675 -0.531623  0.776276  0.814345      0\n",
       "12          93    3;2  0.208353  0.497325  0.438764  0.814345      0\n",
       "13          94    3;2 -0.572970  0.394430 -0.573769 -0.542897      1\n",
       "14          95  3;2;4 -0.182309  0.857457 -0.742524 -0.542897      1"
      ]
     },
     "execution_count": 24,
     "metadata": {},
     "output_type": "execute_result"
    }
   ],
   "source": [
    "dmy_norm_df = du.data_processing.normalize_data(dmy_df, id_columns='subject_id',\n",
    "                                                categ_columns=['Var4', 'label'], see_progress=False)\n",
    "dmy_norm_df"
   ]
  },
  {
   "cell_type": "code",
   "execution_count": 25,
   "metadata": {},
   "outputs": [
    {
     "data": {
      "text/html": [
       "<div>\n",
       "<style scoped>\n",
       "    .dataframe tbody tr th:only-of-type {\n",
       "        vertical-align: middle;\n",
       "    }\n",
       "\n",
       "    .dataframe tbody tr th {\n",
       "        vertical-align: top;\n",
       "    }\n",
       "\n",
       "    .dataframe thead th {\n",
       "        text-align: right;\n",
       "    }\n",
       "</style>\n",
       "<table border=\"1\" class=\"dataframe\">\n",
       "  <thead>\n",
       "    <tr style=\"text-align: right;\">\n",
       "      <th></th>\n",
       "      <th>count</th>\n",
       "      <th>mean</th>\n",
       "      <th>std</th>\n",
       "      <th>min</th>\n",
       "      <th>25%</th>\n",
       "      <th>50%</th>\n",
       "      <th>75%</th>\n",
       "      <th>max</th>\n",
       "    </tr>\n",
       "  </thead>\n",
       "  <tbody>\n",
       "    <tr>\n",
       "      <th>subject_id</th>\n",
       "      <td>15.0</td>\n",
       "      <td>4.233333e+01</td>\n",
       "      <td>37.884536</td>\n",
       "      <td>0.000000</td>\n",
       "      <td>12.500000</td>\n",
       "      <td>22.000000</td>\n",
       "      <td>91.500000</td>\n",
       "      <td>95.000000</td>\n",
       "    </tr>\n",
       "    <tr>\n",
       "      <th>Var0</th>\n",
       "      <td>15.0</td>\n",
       "      <td>6.587323e-16</td>\n",
       "      <td>1.000000</td>\n",
       "      <td>-1.354293</td>\n",
       "      <td>-0.768301</td>\n",
       "      <td>-0.182309</td>\n",
       "      <td>0.599014</td>\n",
       "      <td>2.161659</td>\n",
       "    </tr>\n",
       "    <tr>\n",
       "      <th>Var1</th>\n",
       "      <td>15.0</td>\n",
       "      <td>9.473903e-16</td>\n",
       "      <td>1.000000</td>\n",
       "      <td>-1.869256</td>\n",
       "      <td>-0.685966</td>\n",
       "      <td>0.188641</td>\n",
       "      <td>0.754562</td>\n",
       "      <td>1.320484</td>\n",
       "    </tr>\n",
       "    <tr>\n",
       "      <th>Var2</th>\n",
       "      <td>15.0</td>\n",
       "      <td>-9.621933e-16</td>\n",
       "      <td>1.000000</td>\n",
       "      <td>-2.261324</td>\n",
       "      <td>-0.405013</td>\n",
       "      <td>0.270009</td>\n",
       "      <td>0.354387</td>\n",
       "      <td>1.620053</td>\n",
       "    </tr>\n",
       "    <tr>\n",
       "      <th>Var3</th>\n",
       "      <td>15.0</td>\n",
       "      <td>-4.884981e-16</td>\n",
       "      <td>1.000000</td>\n",
       "      <td>-1.900138</td>\n",
       "      <td>-0.542897</td>\n",
       "      <td>0.814345</td>\n",
       "      <td>0.814345</td>\n",
       "      <td>0.814345</td>\n",
       "    </tr>\n",
       "    <tr>\n",
       "      <th>label</th>\n",
       "      <td>15.0</td>\n",
       "      <td>4.666667e-01</td>\n",
       "      <td>0.516398</td>\n",
       "      <td>0.000000</td>\n",
       "      <td>0.000000</td>\n",
       "      <td>0.000000</td>\n",
       "      <td>1.000000</td>\n",
       "      <td>1.000000</td>\n",
       "    </tr>\n",
       "  </tbody>\n",
       "</table>\n",
       "</div>"
      ],
      "text/plain": [
       "            count          mean        std       min        25%        50%  \\\n",
       "subject_id   15.0  4.233333e+01  37.884536  0.000000  12.500000  22.000000   \n",
       "Var0         15.0  6.587323e-16   1.000000 -1.354293  -0.768301  -0.182309   \n",
       "Var1         15.0  9.473903e-16   1.000000 -1.869256  -0.685966   0.188641   \n",
       "Var2         15.0 -9.621933e-16   1.000000 -2.261324  -0.405013   0.270009   \n",
       "Var3         15.0 -4.884981e-16   1.000000 -1.900138  -0.542897   0.814345   \n",
       "label        15.0  4.666667e-01   0.516398  0.000000   0.000000   0.000000   \n",
       "\n",
       "                  75%        max  \n",
       "subject_id  91.500000  95.000000  \n",
       "Var0         0.599014   2.161659  \n",
       "Var1         0.754562   1.320484  \n",
       "Var2         0.354387   1.620053  \n",
       "Var3         0.814345   0.814345  \n",
       "label        1.000000   1.000000  "
      ]
     },
     "execution_count": 25,
     "metadata": {},
     "output_type": "execute_result"
    }
   ],
   "source": [
    "dmy_norm_df.describe().transpose()"
   ]
  },
  {
   "cell_type": "markdown",
   "metadata": {},
   "source": [
    "### Converting string encodings to numeric"
   ]
  },
  {
   "cell_type": "code",
   "execution_count": 26,
   "metadata": {},
   "outputs": [
    {
     "data": {
      "text/html": [
       "<div>\n",
       "<style scoped>\n",
       "    .dataframe tbody tr th:only-of-type {\n",
       "        vertical-align: middle;\n",
       "    }\n",
       "\n",
       "    .dataframe tbody tr th {\n",
       "        vertical-align: top;\n",
       "    }\n",
       "\n",
       "    .dataframe thead th {\n",
       "        text-align: right;\n",
       "    }\n",
       "</style>\n",
       "<table border=\"1\" class=\"dataframe\">\n",
       "  <thead>\n",
       "    <tr style=\"text-align: right;\">\n",
       "      <th></th>\n",
       "      <th>subject_id</th>\n",
       "      <th>Var4</th>\n",
       "      <th>Var0</th>\n",
       "      <th>Var1</th>\n",
       "      <th>Var2</th>\n",
       "      <th>Var3</th>\n",
       "      <th>label</th>\n",
       "    </tr>\n",
       "  </thead>\n",
       "  <tbody>\n",
       "    <tr>\n",
       "      <th>0</th>\n",
       "      <td>0</td>\n",
       "      <td>0.0</td>\n",
       "      <td>0.599014</td>\n",
       "      <td>0.188641</td>\n",
       "      <td>0.270009</td>\n",
       "      <td>0.814345</td>\n",
       "      <td>0</td>\n",
       "    </tr>\n",
       "    <tr>\n",
       "      <th>1</th>\n",
       "      <td>10</td>\n",
       "      <td>3.0</td>\n",
       "      <td>1.380337</td>\n",
       "      <td>1.011799</td>\n",
       "      <td>1.282542</td>\n",
       "      <td>0.814345</td>\n",
       "      <td>0</td>\n",
       "    </tr>\n",
       "    <tr>\n",
       "      <th>2</th>\n",
       "      <td>11</td>\n",
       "      <td>4.0</td>\n",
       "      <td>-0.963631</td>\n",
       "      <td>0.137193</td>\n",
       "      <td>0.270009</td>\n",
       "      <td>0.814345</td>\n",
       "      <td>0</td>\n",
       "    </tr>\n",
       "    <tr>\n",
       "      <th>3</th>\n",
       "      <td>12</td>\n",
       "      <td>304.0</td>\n",
       "      <td>-0.963631</td>\n",
       "      <td>1.320484</td>\n",
       "      <td>-1.586302</td>\n",
       "      <td>0.814345</td>\n",
       "      <td>1</td>\n",
       "    </tr>\n",
       "    <tr>\n",
       "      <th>4</th>\n",
       "      <td>13</td>\n",
       "      <td>4.0</td>\n",
       "      <td>-1.354293</td>\n",
       "      <td>0.908904</td>\n",
       "      <td>-2.261324</td>\n",
       "      <td>-1.900138</td>\n",
       "      <td>1</td>\n",
       "    </tr>\n",
       "    <tr>\n",
       "      <th>5</th>\n",
       "      <td>20</td>\n",
       "      <td>4.0</td>\n",
       "      <td>-0.572970</td>\n",
       "      <td>-1.560572</td>\n",
       "      <td>0.270009</td>\n",
       "      <td>0.814345</td>\n",
       "      <td>0</td>\n",
       "    </tr>\n",
       "    <tr>\n",
       "      <th>6</th>\n",
       "      <td>21</td>\n",
       "      <td>304.0</td>\n",
       "      <td>-0.572970</td>\n",
       "      <td>-1.354782</td>\n",
       "      <td>-0.067502</td>\n",
       "      <td>-0.542897</td>\n",
       "      <td>1</td>\n",
       "    </tr>\n",
       "    <tr>\n",
       "      <th>7</th>\n",
       "      <td>22</td>\n",
       "      <td>3.0</td>\n",
       "      <td>-0.963631</td>\n",
       "      <td>-1.869256</td>\n",
       "      <td>0.270009</td>\n",
       "      <td>-1.900138</td>\n",
       "      <td>1</td>\n",
       "    </tr>\n",
       "    <tr>\n",
       "      <th>8</th>\n",
       "      <td>30</td>\n",
       "      <td>2.0</td>\n",
       "      <td>2.161659</td>\n",
       "      <td>-0.840308</td>\n",
       "      <td>1.620053</td>\n",
       "      <td>-0.542897</td>\n",
       "      <td>0</td>\n",
       "    </tr>\n",
       "    <tr>\n",
       "      <th>9</th>\n",
       "      <td>31</td>\n",
       "      <td>2.0</td>\n",
       "      <td>0.208353</td>\n",
       "      <td>0.651667</td>\n",
       "      <td>-0.236258</td>\n",
       "      <td>-0.542897</td>\n",
       "      <td>1</td>\n",
       "    </tr>\n",
       "    <tr>\n",
       "      <th>10</th>\n",
       "      <td>91</td>\n",
       "      <td>2.0</td>\n",
       "      <td>0.599014</td>\n",
       "      <td>0.188641</td>\n",
       "      <td>0.270009</td>\n",
       "      <td>0.814345</td>\n",
       "      <td>0</td>\n",
       "    </tr>\n",
       "    <tr>\n",
       "      <th>11</th>\n",
       "      <td>92</td>\n",
       "      <td>2.0</td>\n",
       "      <td>0.989675</td>\n",
       "      <td>-0.531623</td>\n",
       "      <td>0.776276</td>\n",
       "      <td>0.814345</td>\n",
       "      <td>0</td>\n",
       "    </tr>\n",
       "    <tr>\n",
       "      <th>12</th>\n",
       "      <td>93</td>\n",
       "      <td>302.0</td>\n",
       "      <td>0.208353</td>\n",
       "      <td>0.497325</td>\n",
       "      <td>0.438764</td>\n",
       "      <td>0.814345</td>\n",
       "      <td>0</td>\n",
       "    </tr>\n",
       "    <tr>\n",
       "      <th>13</th>\n",
       "      <td>94</td>\n",
       "      <td>302.0</td>\n",
       "      <td>-0.572970</td>\n",
       "      <td>0.394430</td>\n",
       "      <td>-0.573769</td>\n",
       "      <td>-0.542897</td>\n",
       "      <td>1</td>\n",
       "    </tr>\n",
       "    <tr>\n",
       "      <th>14</th>\n",
       "      <td>95</td>\n",
       "      <td>30204.0</td>\n",
       "      <td>-0.182309</td>\n",
       "      <td>0.857457</td>\n",
       "      <td>-0.742524</td>\n",
       "      <td>-0.542897</td>\n",
       "      <td>1</td>\n",
       "    </tr>\n",
       "  </tbody>\n",
       "</table>\n",
       "</div>"
      ],
      "text/plain": [
       "    subject_id     Var4      Var0      Var1      Var2      Var3  label\n",
       "0            0      0.0  0.599014  0.188641  0.270009  0.814345      0\n",
       "1           10      3.0  1.380337  1.011799  1.282542  0.814345      0\n",
       "2           11      4.0 -0.963631  0.137193  0.270009  0.814345      0\n",
       "3           12    304.0 -0.963631  1.320484 -1.586302  0.814345      1\n",
       "4           13      4.0 -1.354293  0.908904 -2.261324 -1.900138      1\n",
       "5           20      4.0 -0.572970 -1.560572  0.270009  0.814345      0\n",
       "6           21    304.0 -0.572970 -1.354782 -0.067502 -0.542897      1\n",
       "7           22      3.0 -0.963631 -1.869256  0.270009 -1.900138      1\n",
       "8           30      2.0  2.161659 -0.840308  1.620053 -0.542897      0\n",
       "9           31      2.0  0.208353  0.651667 -0.236258 -0.542897      1\n",
       "10          91      2.0  0.599014  0.188641  0.270009  0.814345      0\n",
       "11          92      2.0  0.989675 -0.531623  0.776276  0.814345      0\n",
       "12          93    302.0  0.208353  0.497325  0.438764  0.814345      0\n",
       "13          94    302.0 -0.572970  0.394430 -0.573769 -0.542897      1\n",
       "14          95  30204.0 -0.182309  0.857457 -0.742524 -0.542897      1"
      ]
     },
     "execution_count": 26,
     "metadata": {},
     "output_type": "execute_result"
    }
   ],
   "source": [
    "dmy_norm_df = du.embedding.string_encod_to_numeric(dmy_norm_df, cat_feat='Var4', inplace=True)\n",
    "dmy_norm_df"
   ]
  },
  {
   "cell_type": "markdown",
   "metadata": {},
   "source": [
    "### Dataset object"
   ]
  },
  {
   "cell_type": "code",
   "execution_count": 27,
   "metadata": {
    "pixiedust": {
     "displayParams": {}
    }
   },
   "outputs": [],
   "source": [
    "dataset = Tabular_Dataset(dmy_norm_df.to_numpy(), dmy_norm_df)"
   ]
  },
  {
   "cell_type": "markdown",
   "metadata": {},
   "source": [
    "### Separating into train and validation sets\n",
    "\n",
    "Since this notebook is only for experimentation purposes, with a very small dummy dataset, we'll not be using a test set."
   ]
  },
  {
   "cell_type": "markdown",
   "metadata": {},
   "source": [
    "Training parameters:"
   ]
  },
  {
   "cell_type": "code",
   "execution_count": 28,
   "metadata": {},
   "outputs": [],
   "source": [
    "batch_size = 32                                 # Number of patients in a mini batch\n",
    "n_epochs = 50                                   # Number of epochs\n",
    "lr = 0.001                                      # Learning rate"
   ]
  },
  {
   "cell_type": "markdown",
   "metadata": {},
   "source": [
    "Separation in train and validation sets:"
   ]
  },
  {
   "cell_type": "code",
   "execution_count": 29,
   "metadata": {},
   "outputs": [],
   "source": [
    "# Get the train and validation sets data loaders, which will allow loading batches\n",
    "train_dataloader, val_dataloader, _ = du.machine_learning.create_train_sets(dataset, test_train_ratio=0, \n",
    "                                                                            validation_ratio=0.25,\n",
    "                                                                            batch_size=4, get_indeces=False)"
   ]
  },
  {
   "cell_type": "code",
   "execution_count": 30,
   "metadata": {
    "scrolled": true
   },
   "outputs": [
    {
     "data": {
      "text/plain": [
       "tensor([[ 9.4000e+01,  3.0200e+02, -5.7297e-01,  3.9443e-01, -5.7377e-01,\n",
       "         -5.4290e-01],\n",
       "        [ 9.5000e+01,  3.0204e+04, -1.8231e-01,  8.5746e-01, -7.4252e-01,\n",
       "         -5.4290e-01],\n",
       "        [ 3.0000e+01,  2.0000e+00,  2.1617e+00, -8.4031e-01,  1.6201e+00,\n",
       "         -5.4290e-01],\n",
       "        [ 1.2000e+01,  3.0400e+02, -9.6363e-01,  1.3205e+00, -1.5863e+00,\n",
       "          8.1435e-01]], dtype=torch.float64)"
      ]
     },
     "execution_count": 30,
     "metadata": {},
     "output_type": "execute_result"
    }
   ],
   "source": [
    "next(iter(train_dataloader))[0]"
   ]
  },
  {
   "cell_type": "code",
   "execution_count": 31,
   "metadata": {},
   "outputs": [
    {
     "data": {
      "text/plain": [
       "tensor([[ 9.3000e+01,  3.0200e+02,  2.0835e-01,  4.9733e-01,  4.3876e-01,\n",
       "          8.1435e-01],\n",
       "        [ 3.1000e+01,  2.0000e+00,  2.0835e-01,  6.5167e-01, -2.3626e-01,\n",
       "         -5.4290e-01],\n",
       "        [ 2.2000e+01,  3.0000e+00, -9.6363e-01, -1.8693e+00,  2.7001e-01,\n",
       "         -1.9001e+00]], dtype=torch.float64)"
      ]
     },
     "execution_count": 31,
     "metadata": {},
     "output_type": "execute_result"
    }
   ],
   "source": [
    "next(iter(val_dataloader))[0]"
   ]
  },
  {
   "cell_type": "markdown",
   "metadata": {},
   "source": [
    "## Models testing"
   ]
  },
  {
   "cell_type": "markdown",
   "metadata": {
    "toc-hr-collapsed": false
   },
   "source": [
    "### MLP"
   ]
  },
  {
   "cell_type": "markdown",
   "metadata": {},
   "source": [
    "#### Creating the model"
   ]
  },
  {
   "cell_type": "markdown",
   "metadata": {},
   "source": [
    "Model parameters:"
   ]
  },
  {
   "cell_type": "code",
   "execution_count": 32,
   "metadata": {},
   "outputs": [],
   "source": [
    "n_ids = dmy_norm_df.subject_id.nunique()      # Total number of sequences\n",
    "n_inputs = len(dmy_norm_df.columns)           # Number of input features\n",
    "n_hidden = 10                                 # Number of hidden units\n",
    "n_outputs = 1                                 # Number of outputs\n",
    "n_layers = 2                                  # Number of MLP layers\n",
    "p_dropout = 0.2                               # Probability of dropout\n",
    "use_batch_norm = False                        # Indicates if batch normalization is applied"
   ]
  },
  {
   "cell_type": "markdown",
   "metadata": {},
   "source": [
    "Instantiating the model:"
   ]
  },
  {
   "cell_type": "code",
   "execution_count": 33,
   "metadata": {
    "scrolled": true
   },
   "outputs": [
    {
     "data": {
      "text/plain": [
       "MLP(\n",
       "  (linear_layers): ModuleList(\n",
       "    (0): Linear(in_features=5, out_features=10, bias=True)\n",
       "    (1): Linear(in_features=10, out_features=1, bias=True)\n",
       "  )\n",
       "  (dropout): Dropout(p=0.2, inplace=False)\n",
       ")"
      ]
     },
     "execution_count": 33,
     "metadata": {},
     "output_type": "execute_result"
    }
   ],
   "source": [
    "model = Models.MLP(n_inputs-2, n_hidden, n_outputs, n_layers, p_dropout, use_batch_norm)\n",
    "model"
   ]
  },
  {
   "cell_type": "markdown",
   "metadata": {},
   "source": [
    "#### Training the model"
   ]
  },
  {
   "cell_type": "code",
   "execution_count": 34,
   "metadata": {},
   "outputs": [
    {
     "data": {
      "text/plain": [
       "Parameter containing:\n",
       "tensor([[ 0.0661, -0.2088,  0.1140, -0.2060, -0.0524],\n",
       "        [-0.1816,  0.2967, -0.3530, -0.2062, -0.1263],\n",
       "        [-0.2689,  0.0422, -0.4417,  0.4039, -0.3799],\n",
       "        [ 0.3453,  0.0744, -0.1452,  0.2764,  0.0697],\n",
       "        [ 0.3613,  0.0489, -0.1410,  0.1202, -0.1213],\n",
       "        [ 0.1882,  0.3993,  0.2585, -0.1955,  0.2582],\n",
       "        [ 0.0800,  0.2271, -0.2726, -0.4427, -0.1728],\n",
       "        [-0.3430,  0.3670,  0.1288,  0.1852,  0.1414],\n",
       "        [-0.0078,  0.3500, -0.3178,  0.0282, -0.3052],\n",
       "        [ 0.1379, -0.1540,  0.1370, -0.0932,  0.3709]], requires_grad=True)"
      ]
     },
     "execution_count": 34,
     "metadata": {},
     "output_type": "execute_result"
    }
   ],
   "source": [
    "next(model.parameters())"
   ]
  },
  {
   "cell_type": "code",
   "execution_count": 35,
   "metadata": {
    "scrolled": false
   },
   "outputs": [
    {
     "ename": "RuntimeError",
     "evalue": "element 0 of tensors does not require grad and does not have a grad_fn",
     "output_type": "error",
     "traceback": [
      "\u001b[0;31m--------------------------------------------\u001b[0m",
      "\u001b[0;31mRuntimeError\u001b[0mTraceback (most recent call last)",
      "\u001b[0;32m<ipython-input-35-928e8469cddb>\u001b[0m in \u001b[0;36m<module>\u001b[0;34m\u001b[0m\n\u001b[1;32m      1\u001b[0m model = du.deep_learning.train(model, train_dataloader, val_dataloader, cols_to_remove=0,\n\u001b[1;32m      2\u001b[0m                                \u001b[0mmodel_type\u001b[0m\u001b[0;34m=\u001b[0m\u001b[0;34m'mlp'\u001b[0m\u001b[0;34m,\u001b[0m \u001b[0mbatch_size\u001b[0m\u001b[0;34m=\u001b[0m\u001b[0mbatch_size\u001b[0m\u001b[0;34m,\u001b[0m \u001b[0mn_epochs\u001b[0m\u001b[0;34m=\u001b[0m\u001b[0mn_epochs\u001b[0m\u001b[0;34m,\u001b[0m\u001b[0;34m\u001b[0m\u001b[0;34m\u001b[0m\u001b[0m\n\u001b[0;32m----> 3\u001b[0;31m                                lr=lr, model_path='models/', do_test=False, log_comet_ml=False)\n\u001b[0m",
      "\u001b[0;32m~/Documents_Offline/GitHub/data-utils/data_utils/deep_learning.py\u001b[0m in \u001b[0;36mtrain\u001b[0;34m(model, train_dataloader, val_dataloader, test_dataloader, cols_to_remove, model_type, seq_len_dict, batch_size, n_epochs, lr, model_path, ModelClass, padding_value, do_test, log_comet_ml, comet_ml_api_key, comet_ml_project_name, comet_ml_workspace, comet_ml_save_model, experiment, features_list, get_val_loss_min)\u001b[0m\n\u001b[1;32m    719\u001b[0m                         correct_pred, scores, loss = inference_iter_mlp(model, features, labels,\n\u001b[1;32m    720\u001b[0m                                                                         \u001b[0mcols_to_remove\u001b[0m\u001b[0;34m,\u001b[0m \u001b[0mis_train\u001b[0m\u001b[0;34m=\u001b[0m\u001b[0;32mTrue\u001b[0m\u001b[0;34m,\u001b[0m\u001b[0;34m\u001b[0m\u001b[0;34m\u001b[0m\u001b[0m\n\u001b[0;32m--> 721\u001b[0;31m                                                                         optimizer=optimizer)\n\u001b[0m\u001b[1;32m    722\u001b[0m                     \u001b[0;32melse\u001b[0m\u001b[0;34m:\u001b[0m\u001b[0;34m\u001b[0m\u001b[0;34m\u001b[0m\u001b[0m\n\u001b[1;32m    723\u001b[0m                         \u001b[0;32mraise\u001b[0m \u001b[0mException\u001b[0m\u001b[0;34m(\u001b[0m\u001b[0;34m'ERROR: Invalid model type. It must be \"multivariate_rnn\" or \"mlp\", not {threshold_type}.'\u001b[0m\u001b[0;34m)\u001b[0m\u001b[0;34m\u001b[0m\u001b[0;34m\u001b[0m\u001b[0m\n",
      "\u001b[0;32m~/Documents_Offline/GitHub/data-utils/data_utils/deep_learning.py\u001b[0m in \u001b[0;36minference_iter_mlp\u001b[0;34m(model, features, labels, cols_to_remove, is_train, optimizer)\u001b[0m\n\u001b[1;32m    289\u001b[0m     \u001b[0;32mif\u001b[0m \u001b[0mis_train\u001b[0m \u001b[0;32mis\u001b[0m \u001b[0;32mTrue\u001b[0m\u001b[0;34m:\u001b[0m\u001b[0;34m\u001b[0m\u001b[0;34m\u001b[0m\u001b[0m\n\u001b[1;32m    290\u001b[0m         \u001b[0;31m# Backpropagate the loss and update the model's weights\u001b[0m\u001b[0;34m\u001b[0m\u001b[0;34m\u001b[0m\u001b[0;34m\u001b[0m\u001b[0m\n\u001b[0;32m--> 291\u001b[0;31m         \u001b[0mloss\u001b[0m\u001b[0;34m.\u001b[0m\u001b[0mbackward\u001b[0m\u001b[0;34m(\u001b[0m\u001b[0;34m)\u001b[0m\u001b[0;34m\u001b[0m\u001b[0;34m\u001b[0m\u001b[0m\n\u001b[0m\u001b[1;32m    292\u001b[0m         \u001b[0moptimizer\u001b[0m\u001b[0;34m.\u001b[0m\u001b[0mstep\u001b[0m\u001b[0;34m(\u001b[0m\u001b[0;34m)\u001b[0m\u001b[0;34m\u001b[0m\u001b[0;34m\u001b[0m\u001b[0m\n\u001b[1;32m    293\u001b[0m     \u001b[0;31m# Get the predictions and find the samples where they are correct\u001b[0m\u001b[0;34m\u001b[0m\u001b[0;34m\u001b[0m\u001b[0;34m\u001b[0m\u001b[0m\n",
      "\u001b[0;32m~/Library/Caches/pypoetry/virtualenvs/tcga-cancer-classification-py3.7/lib/python3.7/site-packages/torch/tensor.py\u001b[0m in \u001b[0;36mbackward\u001b[0;34m(self, gradient, retain_graph, create_graph)\u001b[0m\n\u001b[1;32m    116\u001b[0m                 \u001b[0mproducts\u001b[0m\u001b[0;34m.\u001b[0m \u001b[0mDefaults\u001b[0m \u001b[0mto\u001b[0m\u001b[0;31m \u001b[0m\u001b[0;31m`\u001b[0m\u001b[0;31m`\u001b[0m\u001b[0;32mFalse\u001b[0m\u001b[0;31m`\u001b[0m\u001b[0;31m`\u001b[0m\u001b[0;34m.\u001b[0m\u001b[0;34m\u001b[0m\u001b[0;34m\u001b[0m\u001b[0m\n\u001b[1;32m    117\u001b[0m         \"\"\"\n\u001b[0;32m--> 118\u001b[0;31m         \u001b[0mtorch\u001b[0m\u001b[0;34m.\u001b[0m\u001b[0mautograd\u001b[0m\u001b[0;34m.\u001b[0m\u001b[0mbackward\u001b[0m\u001b[0;34m(\u001b[0m\u001b[0mself\u001b[0m\u001b[0;34m,\u001b[0m \u001b[0mgradient\u001b[0m\u001b[0;34m,\u001b[0m \u001b[0mretain_graph\u001b[0m\u001b[0;34m,\u001b[0m \u001b[0mcreate_graph\u001b[0m\u001b[0;34m)\u001b[0m\u001b[0;34m\u001b[0m\u001b[0;34m\u001b[0m\u001b[0m\n\u001b[0m\u001b[1;32m    119\u001b[0m \u001b[0;34m\u001b[0m\u001b[0m\n\u001b[1;32m    120\u001b[0m     \u001b[0;32mdef\u001b[0m \u001b[0mregister_hook\u001b[0m\u001b[0;34m(\u001b[0m\u001b[0mself\u001b[0m\u001b[0;34m,\u001b[0m \u001b[0mhook\u001b[0m\u001b[0;34m)\u001b[0m\u001b[0;34m:\u001b[0m\u001b[0;34m\u001b[0m\u001b[0;34m\u001b[0m\u001b[0m\n",
      "\u001b[0;32m~/Library/Caches/pypoetry/virtualenvs/tcga-cancer-classification-py3.7/lib/python3.7/site-packages/torch/autograd/__init__.py\u001b[0m in \u001b[0;36mbackward\u001b[0;34m(tensors, grad_tensors, retain_graph, create_graph, grad_variables)\u001b[0m\n\u001b[1;32m     91\u001b[0m     Variable._execution_engine.run_backward(\n\u001b[1;32m     92\u001b[0m         \u001b[0mtensors\u001b[0m\u001b[0;34m,\u001b[0m \u001b[0mgrad_tensors\u001b[0m\u001b[0;34m,\u001b[0m \u001b[0mretain_graph\u001b[0m\u001b[0;34m,\u001b[0m \u001b[0mcreate_graph\u001b[0m\u001b[0;34m,\u001b[0m\u001b[0;34m\u001b[0m\u001b[0;34m\u001b[0m\u001b[0m\n\u001b[0;32m---> 93\u001b[0;31m         allow_unreachable=True)  # allow_unreachable flag\n\u001b[0m\u001b[1;32m     94\u001b[0m \u001b[0;34m\u001b[0m\u001b[0m\n\u001b[1;32m     95\u001b[0m \u001b[0;34m\u001b[0m\u001b[0m\n",
      "\u001b[0;31mRuntimeError\u001b[0m: element 0 of tensors does not require grad and does not have a grad_fn"
     ]
    }
   ],
   "source": [
    "model = du.deep_learning.train(model, train_dataloader, val_dataloader, cols_to_remove=0,\n",
    "                               model_type='mlp', batch_size=batch_size, n_epochs=n_epochs, \n",
    "                               lr=lr, model_path='models/', do_test=False, log_comet_ml=False)"
   ]
  },
  {
   "cell_type": "code",
   "execution_count": null,
   "metadata": {},
   "outputs": [],
   "source": [
    "next(model.parameters())"
   ]
  },
  {
   "cell_type": "markdown",
   "metadata": {},
   "source": [
    "#### Testing the model"
   ]
  },
  {
   "cell_type": "code",
   "execution_count": null,
   "metadata": {},
   "outputs": [],
   "source": [
    "output, metrics = du.deep_learning.model_inference(model, seq_len_dict, dataloader=val_dataloader, \n",
    "                                                   model_type='mlp', metrics=['loss', 'accuracy', 'AUC'],\n",
    "                                                   output_rounded=False, set_name='test', \n",
    "                                                   cols_to_remove=du.search_explore.find_col_idx(dmy_norm_df, 'subject_id'))\n",
    "output"
   ]
  },
  {
   "cell_type": "code",
   "execution_count": null,
   "metadata": {},
   "outputs": [],
   "source": [
    "metrics"
   ]
  },
  {
   "cell_type": "markdown",
   "metadata": {},
   "source": [
    "### MLP with embedding layers"
   ]
  },
  {
   "cell_type": "markdown",
   "metadata": {},
   "source": [
    "#### Creating the model"
   ]
  },
  {
   "cell_type": "markdown",
   "metadata": {},
   "source": [
    "Model parameters:"
   ]
  },
  {
   "cell_type": "code",
   "execution_count": null,
   "metadata": {},
   "outputs": [],
   "source": [
    "n_ids = dmy_norm_df.subject_id.nunique()      # Total number of sequences\n",
    "n_inputs = len(dmy_norm_df.columns)           # Number of input features\n",
    "n_hidden = 10                                 # Number of hidden units\n",
    "n_outputs = 1                                 # Number of outputs\n",
    "n_layers = 1                                  # Number of LSTM layers\n",
    "p_dropout = 0.2                               # Probability of dropout\n",
    "use_batch_norm = False                        # Indicates if batch normalization is applied"
   ]
  },
  {
   "cell_type": "markdown",
   "metadata": {},
   "source": [
    "Instantiating the model:"
   ]
  },
  {
   "cell_type": "code",
   "execution_count": null,
   "metadata": {},
   "outputs": [],
   "source": [
    "len(enum_dict.items())+1"
   ]
  },
  {
   "cell_type": "code",
   "execution_count": null,
   "metadata": {},
   "outputs": [],
   "source": [
    "model = Models.MLP(n_inputs-2, n_hidden, n_outputs, n_layers, p_dropout, use_batch_norm,\n",
    "                   embed_features=du.search_explore.find_col_idx(dmy_norm_df, 'Var4'), num_embeddings=5,\n",
    "                   embedding_dim=2)\n",
    "model"
   ]
  },
  {
   "cell_type": "markdown",
   "metadata": {},
   "source": [
    "#### Training the model"
   ]
  },
  {
   "cell_type": "code",
   "execution_count": null,
   "metadata": {},
   "outputs": [],
   "source": [
    "next(model.parameters())"
   ]
  },
  {
   "cell_type": "code",
   "execution_count": null,
   "metadata": {},
   "outputs": [],
   "source": [
    "model = du.deep_learning.train(model, train_dataloader, val_dataloader, cols_to_remove=0,\n",
    "                               model_type='mlp', batch_size=batch_size, n_epochs=n_epochs, \n",
    "                               lr=lr, model_path='models/', do_test=False, log_comet_ml=False)"
   ]
  },
  {
   "cell_type": "code",
   "execution_count": null,
   "metadata": {},
   "outputs": [],
   "source": [
    "next(model.parameters())"
   ]
  },
  {
   "cell_type": "markdown",
   "metadata": {},
   "source": [
    "#### Testing the model"
   ]
  },
  {
   "cell_type": "code",
   "execution_count": null,
   "metadata": {},
   "outputs": [],
   "source": [
    "output, metrics = du.deep_learning.model_inference(model, seq_len_dict, dataloader=val_dataloader, \n",
    "                                                   model_type='mlp', metrics=['loss', 'accuracy', 'AUC'],\n",
    "                                                   output_rounded=False, set_name='test', \n",
    "                                                   cols_to_remove=du.search_explore.find_col_idx(dmy_norm_df, 'subject_id'))\n",
    "output"
   ]
  },
  {
   "cell_type": "code",
   "execution_count": null,
   "metadata": {},
   "outputs": [],
   "source": [
    "metrics"
   ]
  },
  {
   "cell_type": "markdown",
   "metadata": {},
   "source": [
    "### Regularization Learning Network (RLN)"
   ]
  },
  {
   "cell_type": "code",
   "execution_count": null,
   "metadata": {},
   "outputs": [],
   "source": []
  },
  {
   "cell_type": "markdown",
   "metadata": {},
   "source": [
    "### SVM"
   ]
  },
  {
   "cell_type": "code",
   "execution_count": null,
   "metadata": {},
   "outputs": [],
   "source": []
  },
  {
   "cell_type": "markdown",
   "metadata": {},
   "source": [
    "### Decision tree"
   ]
  },
  {
   "cell_type": "code",
   "execution_count": null,
   "metadata": {},
   "outputs": [],
   "source": []
  },
  {
   "cell_type": "markdown",
   "metadata": {},
   "source": [
    "### XGBoost"
   ]
  },
  {
   "cell_type": "code",
   "execution_count": null,
   "metadata": {},
   "outputs": [],
   "source": []
  }
 ],
 "metadata": {
  "kernelspec": {
   "display_name": "tcga-cancer-classification",
   "language": "python",
   "name": "tcga-cancer-classification"
  },
  "language_info": {
   "codemirror_mode": {
    "name": "ipython",
    "version": 3
   },
   "file_extension": ".py",
   "mimetype": "text/x-python",
   "name": "python",
   "nbconvert_exporter": "python",
   "pygments_lexer": "ipython3",
   "version": "3.7.4"
  }
 },
 "nbformat": 4,
 "nbformat_minor": 4
}
